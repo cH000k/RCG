{
 "cells": [
  {
   "cell_type": "code",
   "execution_count": null,
   "metadata": {},
   "outputs": [],
   "source": [
    "import mysql.connector\n",
    "\n",
    "user = \"root\"\n",
    "password = \"root\"\n",
    "host = \"localhost\"\n",
    "database = \"tzdb\"\n",
    "port = \"3306\"\n",
    "tbl_tzdb_timezones = \"tzdb_timezones\"\n",
    "tbl_tzdb_zone_details = \"tzdb_zone_details\"\n",
    "tbl_tzdb_error_log = \"tzdb_error_log\""
   ]
  },
  {
   "cell_type": "markdown",
   "metadata": {},
   "source": [
    "# CREATE MYSQL SERVER CONNECTION"
   ]
  },
  {
   "cell_type": "code",
   "execution_count": null,
   "metadata": {},
   "outputs": [],
   "source": [
    "def create_server_connection(user: str, password: str, host: str, database: str):\n",
    "    con = None\n",
    "    try:\n",
    "        con = mysql.connector.connect(user=user, password=password, host=host, database=database)\n",
    "        print(\"MySQL DB Connection Successful!\")\n",
    "    except Exception as e:\n",
    "        print(\"Error Connecting to Database:\")\n",
    "        print(e)\n",
    "    return con\n",
    "\n",
    "con = create_server_connection(user, password, host, database)\n",
    "cursor = con.cursor()"
   ]
  },
  {
   "cell_type": "markdown",
   "metadata": {},
   "source": [
    "# CREATE/DROP DATABASE"
   ]
  },
  {
   "cell_type": "code",
   "execution_count": null,
   "metadata": {},
   "outputs": [],
   "source": [
    "def create_database(con, db_name):\n",
    "    cursor = con.cursor()\n",
    "    cursor.execute(f\"CREATE DATABASE {db_name}\")\n",
    "    return print(f\"{db_name} has been created!\")\n",
    "\n",
    "def delete_database(con, db_name):\n",
    "    cursor = con.cursor()\n",
    "    cursor.execute(f\"DROP DATABASE {db_name}\")\n",
    "    return print(f\"{db_name} has been deleted!\")"
   ]
  },
  {
   "cell_type": "markdown",
   "metadata": {},
   "source": [
    "# CREATE/DROP TABLE - TZDB_TIMEZONES"
   ]
  },
  {
   "cell_type": "code",
   "execution_count": null,
   "metadata": {},
   "outputs": [],
   "source": [
    "# CREATE\n",
    "try:\n",
    "    cursor.execute(f\"\"\"\n",
    "        CREATE TABLE {tbl_tzdb_timezones} (\n",
    "                    COUNTRYCODE VARCHAR(2) NOT NULL,\n",
    "                    COUNTRYNAME VARCHAR(100) NOT NULL,\n",
    "                    ZONENAME VARCHAR(100) NOT NULL,\n",
    "                    GMTOFFSET NUMERIC,\n",
    "                    IMPORT_DATE DATE,\n",
    "                    PRIMARY KEY(ZONENAME)\n",
    "                    )           \n",
    "    \"\"\")\n",
    "    print(f\"Table {tbl_tzdb_timezones} created!\")\n",
    "except:\n",
    "    print(f\"Table '{tbl_tzdb_timezones}' already exists!\")\n",
    "\n",
    "# DROP\n",
    "# try:\n",
    "#     cursor.execute(f\"DROP TABLE {tbl_tzdb_timezones}\")\n",
    "#     print(f\"Table {tbl_tzdb_timezones} dropped!\")\n",
    "# except:\n",
    "#     print(f\"Table '{tbl_tzdb_timezones}' no longer exists!\")"
   ]
  },
  {
   "cell_type": "markdown",
   "metadata": {},
   "source": [
    "# CREATE/DROP TABLE - TZDB_ZONE_DETAILS"
   ]
  },
  {
   "cell_type": "code",
   "execution_count": null,
   "metadata": {},
   "outputs": [],
   "source": [
    "# CREATE\n",
    "try:\n",
    "    cursor.execute(f\"\"\"\n",
    "        CREATE TABLE {tbl_tzdb_zone_details} (\n",
    "                    COUNTRYCODE VARCHAR(2) NOT NULL,\n",
    "                    COUNTRYNAME VARCHAR(100) NOT NULL,\n",
    "                    ZONENAME VARCHAR(100) NOT NULL,\n",
    "                    GMTOFFSET NUMERIC NOT NULL,\n",
    "                    DST NUMERIC NOT NULL,\n",
    "                    ZONESTART NUMERIC NOT NULL,\n",
    "                    ZONEEND NUMERIC NOT NULL,\n",
    "                    IMPORT_DATE DATE,\n",
    "                    PRIMARY KEY(ZONENAME, ZONESTART, ZONEEND)\n",
    "                    )         \n",
    "    \"\"\")\n",
    "    print(f\"Table {tbl_tzdb_zone_details} created!\")\n",
    "except:\n",
    "    print(f\"Table '{tbl_tzdb_zone_details}' already exists!\")\n",
    "\n",
    "# DROP\n",
    "# try:\n",
    "#     cursor.execute(f\"DROP TABLE {tbl_tzdb_zone_details}\")\n",
    "#     print(f\"Table {tbl_tzdb_zone_details} dropped!\")\n",
    "# except:\n",
    "#     print(f\"Table '{tbl_tzdb_zone_details}' no longer exists!\")"
   ]
  },
  {
   "cell_type": "markdown",
   "metadata": {},
   "source": [
    "# CREATE/DROP TABLE - TZDB_ERROR_LOG"
   ]
  },
  {
   "cell_type": "code",
   "execution_count": null,
   "metadata": {},
   "outputs": [],
   "source": [
    "# CREATE\n",
    "try:\n",
    "    cursor.execute(f\"\"\"\n",
    "        CREATE TABLE {tbl_tzdb_error_log} (\n",
    "                    ERROR_DATE DATE NOT NULL,\n",
    "                    ERROR_MESSAGE VARCHAR(1000) NOT NULL\n",
    "                    )         \n",
    "    \"\"\")\n",
    "    print(f\"Table {tbl_tzdb_error_log} created!\")\n",
    "except:\n",
    "    print(f\"Table '{tbl_tzdb_error_log}' already exists!\")\n",
    "\n",
    "# DROP\n",
    "# try:\n",
    "#     cursor.execute(f\"DROP TABLE {tbl_tzdb_error_log}\")\n",
    "#     print(f\"Table {tbl_tzdb_error_log} dropped!\")\n",
    "# except:\n",
    "#     print(f\"Table '{tbl_tzdb_error_log}' no longer exists!\")"
   ]
  }
 ],
 "metadata": {
  "kernelspec": {
   "display_name": "Python 3",
   "language": "python",
   "name": "python3"
  },
  "language_info": {
   "codemirror_mode": {
    "name": "ipython",
    "version": 3
   },
   "file_extension": ".py",
   "mimetype": "text/x-python",
   "name": "python",
   "nbconvert_exporter": "python",
   "pygments_lexer": "ipython3",
   "version": "3.11.4"
  }
 },
 "nbformat": 4,
 "nbformat_minor": 2
}
